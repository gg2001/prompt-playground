{
 "cells": [
  {
   "cell_type": "code",
   "execution_count": 19,
   "metadata": {},
   "outputs": [],
   "source": [
    "import dspy\n",
    "from dspy.teleprompt import BootstrapFewShot, BootstrapFinetune, LabeledFewShot"
   ]
  },
  {
   "cell_type": "code",
   "execution_count": 20,
   "metadata": {},
   "outputs": [],
   "source": [
    "turbo = dspy.OpenAI(model=\"gpt-3.5-turbo\")\n",
    "colbertv2_wiki17_abstracts = dspy.ColBERTv2(\n",
    "    url=\"http://20.102.90.50:2017/wiki17_abstracts\"\n",
    ")\n",
    "\n",
    "dspy.settings.configure(lm=turbo, rm=colbertv2_wiki17_abstracts)"
   ]
  },
  {
   "cell_type": "code",
   "execution_count": 21,
   "metadata": {},
   "outputs": [
    {
     "data": {
      "text/plain": [
       "Prediction(\n",
       "    answer='Question: Where is Guarani spoken?\\nAnswer: Guarani is spoken in Paraguay and parts of Argentina, Brazil, and Bolivia.'\n",
       ")"
      ]
     },
     "execution_count": 21,
     "metadata": {},
     "output_type": "execute_result"
    }
   ],
   "source": [
    "qa = dspy.Predict(\"question -> answer\")\n",
    "qa(question=\"Where is Guarani spoken?\")"
   ]
  },
  {
   "cell_type": "code",
   "execution_count": 22,
   "metadata": {},
   "outputs": [],
   "source": [
    "class RAG(dspy.Module):\n",
    "    def __init__(self, num_passages=3):\n",
    "        self.retrieve = dspy.Retrieve(k=num_passages)\n",
    "        self.generate_answer = dspy.ChainOfThought(\"context, question -> answer\")\n",
    "\n",
    "    def forward(self, question):\n",
    "        context = self.retrieve(question).passages\n",
    "        return self.generate_answer(context=context, question=question)"
   ]
  },
  {
   "cell_type": "code",
   "execution_count": 23,
   "metadata": {},
   "outputs": [
    {
     "name": "stderr",
     "output_type": "stream",
     "text": [
      "100%|██████████| 1/1 [00:00<00:00, 3013.15it/s]"
     ]
    },
    {
     "name": "stdout",
     "output_type": "stream",
     "text": [
      "Bootstrapped 1 full traces after 1 examples in round 0.\n"
     ]
    },
    {
     "name": "stderr",
     "output_type": "stream",
     "text": [
      "\n"
     ]
    },
    {
     "data": {
      "text/plain": [
       "generate_answer = Predict(StringSignature(context, question -> rationale, answer\n",
       "    instructions='Given the fields `context`, `question`, produce the fields `answer`.'\n",
       "    context = Field(annotation=str required=True json_schema_extra={'__dspy_field_type': 'input', 'prefix': 'Context:', 'desc': '${context}'})\n",
       "    question = Field(annotation=str required=True json_schema_extra={'__dspy_field_type': 'input', 'prefix': 'Question:', 'desc': '${question}'})\n",
       "    rationale = Field(annotation=str required=True json_schema_extra={'prefix': \"Reasoning: Let's think step by step in order to\", 'desc': '${produce the answer}. We ...', '__dspy_field_type': 'output'})\n",
       "    answer = Field(annotation=str required=True json_schema_extra={'__dspy_field_type': 'output', 'prefix': 'Answer:', 'desc': '${answer}'})\n",
       "))"
      ]
     },
     "execution_count": 23,
     "metadata": {},
     "output_type": "execute_result"
    }
   ],
   "source": [
    "qa_trainset = [\n",
    "    dspy.Example(question=\"What is the capital of France?\", answer=\"Paris\").with_inputs(\n",
    "        \"question\"\n",
    "    )\n",
    "]\n",
    "\n",
    "teleprompter = BootstrapFewShot(metric=dspy.evaluate.answer_exact_match)\n",
    "compiled_rag = teleprompter.compile(RAG(), trainset=qa_trainset)\n",
    "compiled_rag"
   ]
  },
  {
   "cell_type": "code",
   "execution_count": 26,
   "metadata": {},
   "outputs": [
    {
     "data": {
      "text/plain": [
       "predict = Predict(StringSignature(question -> rationale, answer\n",
       "    instructions='Given the fields `question`, produce the fields `answer`.'\n",
       "    question = Field(annotation=str required=True json_schema_extra={'__dspy_field_type': 'input', 'prefix': 'Question:', 'desc': '${question}'})\n",
       "    rationale = Field(annotation=str required=True json_schema_extra={'prefix': \"Reasoning: Let's think step by step in order to\", 'desc': '${produce the answer}. We ...', '__dspy_field_type': 'output'})\n",
       "    answer = Field(annotation=str required=True json_schema_extra={'__dspy_field_type': 'output', 'prefix': 'Answer:', 'desc': '${answer}'})\n",
       "))\n",
       "compare.predict = Predict(StringSignature(question, reasoning_attempt_1, reasoning_attempt_2, reasoning_attempt_3, reasoning_attempt_4, reasoning_attempt_5 -> rationale, answer\n",
       "    instructions='Given the fields `question`, produce the fields `answer`.'\n",
       "    question = Field(annotation=str required=True json_schema_extra={'__dspy_field_type': 'input', 'prefix': 'Question:', 'desc': '${question}'})\n",
       "    reasoning_attempt_1 = Field(annotation=str required=True json_schema_extra={'prefix': 'Student Attempt #1:', 'desc': '${reasoning attempt}', '__dspy_field_type': 'input'})\n",
       "    reasoning_attempt_2 = Field(annotation=str required=True json_schema_extra={'prefix': 'Student Attempt #2:', 'desc': '${reasoning attempt}', '__dspy_field_type': 'input'})\n",
       "    reasoning_attempt_3 = Field(annotation=str required=True json_schema_extra={'prefix': 'Student Attempt #3:', 'desc': '${reasoning attempt}', '__dspy_field_type': 'input'})\n",
       "    reasoning_attempt_4 = Field(annotation=str required=True json_schema_extra={'prefix': 'Student Attempt #4:', 'desc': '${reasoning attempt}', '__dspy_field_type': 'input'})\n",
       "    reasoning_attempt_5 = Field(annotation=str required=True json_schema_extra={'prefix': 'Student Attempt #5:', 'desc': '${reasoning attempt}', '__dspy_field_type': 'input'})\n",
       "    rationale = Field(annotation=str required=True json_schema_extra={'prefix': \"Accurate Reasoning: Thank you everyone. Let's now holistically\", 'desc': '${corrected reasoning}', '__dspy_field_type': 'output'})\n",
       "    answer = Field(annotation=str required=True json_schema_extra={'__dspy_field_type': 'output', 'prefix': 'Answer:', 'desc': '${answer}'})\n",
       "))"
      ]
     },
     "execution_count": 26,
     "metadata": {},
     "output_type": "execute_result"
    }
   ],
   "source": [
    "class ThoughtReflection(dspy.Module):\n",
    "    def __init__(self, num_attempts):\n",
    "        self.predict = dspy.ChainOfThought(\"question -> answer\", n=num_attempts)\n",
    "        self.compare = dspy.MultiChainComparison(\"question -> answer\", M=num_attempts)\n",
    "\n",
    "    def forward(self, question):\n",
    "        completions = self.predict(question=question).completions\n",
    "        return self.compare(question=question, completions=completions)\n",
    "\n",
    "\n",
    "reflection = ThoughtReflection(num_attempts=5)\n",
    "reflection"
   ]
  }
 ],
 "metadata": {
  "kernelspec": {
   "display_name": "Python 3",
   "language": "python",
   "name": "python3"
  },
  "language_info": {
   "codemirror_mode": {
    "name": "ipython",
    "version": 3
   },
   "file_extension": ".py",
   "mimetype": "text/x-python",
   "name": "python",
   "nbconvert_exporter": "python",
   "pygments_lexer": "ipython3",
   "version": "3.11.9"
  }
 },
 "nbformat": 4,
 "nbformat_minor": 2
}
