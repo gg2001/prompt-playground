{
 "cells": [
  {
   "cell_type": "code",
   "execution_count": 65,
   "metadata": {},
   "outputs": [],
   "source": [
    "import tiktoken\n",
    "from openai import OpenAI\n",
    "\n",
    "tokenizer = tiktoken.get_encoding(\"cl100k_base\")\n",
    "client = OpenAI()"
   ]
  },
  {
   "cell_type": "code",
   "execution_count": 66,
   "metadata": {},
   "outputs": [],
   "source": [
    "MODEL = \"gpt-4o\"\n",
    "RESPONSE_MODEL = \"gpt-4o-mini\""
   ]
  },
  {
   "cell_type": "code",
   "execution_count": 67,
   "metadata": {},
   "outputs": [
    {
     "name": "stdout",
     "output_type": "stream",
     "text": [
      "Tokens: 710\n",
      "\n",
      "Q: There are 15 trees in the grove. Grove workers will plant trees in the grove today. After they are done,\n",
      "there will be 21 trees. How many trees did the grove workers plant today?\n",
      "A: We start with 15 trees. Later we have 21 trees. The difference must be the number of trees they planted.\n",
      "So, they must have planted 21 - 15 = 6 trees. The answer is 6.\n",
      "Q: If there are 3 cars in the parking lot and 2 more cars arrive, how many cars are in the parking lot?\n",
      "A: There are 3 cars in the parking lot already. 2 more arrive. Now there are 3 + 2 = 5 cars. The answer is 5.\n",
      "Q: Leah had 32 chocolates and her sister had 42. If they ate 35, how many pieces do they have left in total?\n",
      "A: Leah had 32 chocolates and Leah’s sister had 42. That means there were originally 32 + 42 = 74\n",
      "chocolates. 35 have been eaten. So in total they still have 74 - 35 = 39 chocolates. The answer is 39.\n",
      "Q: Jason had 20 lollipops. He gave Denny some lollipops. Now Jason has 12 lollipops. How many lollipops\n",
      "did Jason give to Denny?\n",
      "A: Jason had 20 lollipops. Since he only has 12 now, he must have given the rest to Denny. The number of\n",
      "lollipops he has given to Denny must have been 20 - 12 = 8 lollipops. The answer is 8.\n",
      "Q: Shawn has five toys. For Christmas, he got two toys each from his mom and dad. How many toys does\n",
      "he have now?\n",
      "A: He has 5 toys. He got 2 from mom, so after that he has 5 + 2 = 7 toys. Then he got 2 more from dad, so\n",
      "in total he has 7 + 2 = 9 toys. The answer is 9.\n",
      "Q: There were nine computers in the server room. Five more computers were installed each day, from\n",
      "monday to thursday. How many computers are now in the server room?\n",
      "A: There are 4 days from monday to thursday. 5 computers were added each day. That means in total 4 * 5 =\n",
      "20 computers were added. There were 9 computers in the beginning, so now there are 9 + 20 = 29 computers.\n",
      "The answer is 29.\n",
      "Q: Michael had 58 golf balls. On tuesday, he lost 23 golf balls. On wednesday, he lost 2 more. How many\n",
      "golf balls did he have at the end of wednesday?\n",
      "A: Michael initially had 58 balls. He lost 23 on Tuesday, so after that he has 58 - 23 = 35 balls. On\n",
      "Wednesday he lost 2 more so now he has 35 - 2 = 33 balls. The answer is 33.\n",
      "Q: Olivia has $23. She bought five bagels for $3 each. How much money does she have left?\n",
      "A: She bought 5 bagels for $3 each. This means she spent $15. She has $8 left.\n"
     ]
    }
   ],
   "source": [
    "system_message = \"\"\"Q: There are 15 trees in the grove. Grove workers will plant trees in the grove today. After they are done,\n",
    "there will be 21 trees. How many trees did the grove workers plant today?\n",
    "A: We start with 15 trees. Later we have 21 trees. The difference must be the number of trees they planted.\n",
    "So, they must have planted 21 - 15 = 6 trees. The answer is 6.\n",
    "Q: If there are 3 cars in the parking lot and 2 more cars arrive, how many cars are in the parking lot?\n",
    "A: There are 3 cars in the parking lot already. 2 more arrive. Now there are 3 + 2 = 5 cars. The answer is 5.\n",
    "Q: Leah had 32 chocolates and her sister had 42. If they ate 35, how many pieces do they have left in total?\n",
    "A: Leah had 32 chocolates and Leah’s sister had 42. That means there were originally 32 + 42 = 74\n",
    "chocolates. 35 have been eaten. So in total they still have 74 - 35 = 39 chocolates. The answer is 39.\n",
    "Q: Jason had 20 lollipops. He gave Denny some lollipops. Now Jason has 12 lollipops. How many lollipops\n",
    "did Jason give to Denny?\n",
    "A: Jason had 20 lollipops. Since he only has 12 now, he must have given the rest to Denny. The number of\n",
    "lollipops he has given to Denny must have been 20 - 12 = 8 lollipops. The answer is 8.\n",
    "Q: Shawn has five toys. For Christmas, he got two toys each from his mom and dad. How many toys does\n",
    "he have now?\n",
    "A: He has 5 toys. He got 2 from mom, so after that he has 5 + 2 = 7 toys. Then he got 2 more from dad, so\n",
    "in total he has 7 + 2 = 9 toys. The answer is 9.\n",
    "Q: There were nine computers in the server room. Five more computers were installed each day, from\n",
    "monday to thursday. How many computers are now in the server room?\n",
    "A: There are 4 days from monday to thursday. 5 computers were added each day. That means in total 4 * 5 =\n",
    "20 computers were added. There were 9 computers in the beginning, so now there are 9 + 20 = 29 computers.\n",
    "The answer is 29.\n",
    "Q: Michael had 58 golf balls. On tuesday, he lost 23 golf balls. On wednesday, he lost 2 more. How many\n",
    "golf balls did he have at the end of wednesday?\n",
    "A: Michael initially had 58 balls. He lost 23 on Tuesday, so after that he has 58 - 23 = 35 balls. On\n",
    "Wednesday he lost 2 more so now he has 35 - 2 = 33 balls. The answer is 33.\n",
    "Q: Olivia has $23. She bought five bagels for $3 each. How much money does she have left?\n",
    "A: She bought 5 bagels for $3 each. This means she spent $15. She has $8 left.\"\"\"\n",
    "\n",
    "system_message_tokens = len(tokenizer.encode(system_message))\n",
    "print(\"Tokens:\", system_message_tokens)\n",
    "print()\n",
    "print(system_message)"
   ]
  },
  {
   "cell_type": "code",
   "execution_count": 68,
   "metadata": {},
   "outputs": [],
   "source": [
    "example_question = (\n",
    "    \"When I was 6 my sister was half my age. Now I’m 70 how old is my sister?\"\n",
    ")\n",
    "example_responses = [\n",
    "    \"When I was 6 my sister was half my age, so she was 3. Now I am 70, so she is 70 - 3 = 67. The answer is 67.\",\n",
    "    \"When the narrator was 6, his sister was half his age, which is 3. Now that the narrator is 70, his sister would be 70 - 3 = 67 years old. The answer is 67.\",\n",
    "    \"When I was 6 my sister was half my age, so she was 3. Now I am 70, so she is 70/2 = 35. The answer is 35.\",\n",
    "]"
   ]
  },
  {
   "cell_type": "code",
   "execution_count": 69,
   "metadata": {},
   "outputs": [
    {
     "name": "stdout",
     "output_type": "stream",
     "text": [
      "Q: When I was 6 my sister was half my age. Now I’m 70 how old is my sister?\n",
      "A: \n"
     ]
    }
   ],
   "source": [
    "def user_prompt(question: str) -> str:\n",
    "    return f\"Q: {question}\\nA: \"\n",
    "\n",
    "\n",
    "print(user_prompt(example_question))"
   ]
  },
  {
   "cell_type": "code",
   "execution_count": 70,
   "metadata": {},
   "outputs": [],
   "source": [
    "def response_prompt(responses: list[str]) -> str:\n",
    "    solving_examples = \"\\n\\n\".join(\n",
    "        [\n",
    "            f\"\"\"Response {i}:\n",
    "```\n",
    "{example}\n",
    "```\"\"\"\n",
    "            for i, example in enumerate(responses)\n",
    "        ]\n",
    "    )\n",
    "    return f\"\"\"{solving_examples}\n",
    "\n",
    "Write an answer using the most commonly appearing response.\n",
    "    \"\"\""
   ]
  },
  {
   "cell_type": "code",
   "execution_count": 71,
   "metadata": {},
   "outputs": [
    {
     "name": "stdout",
     "output_type": "stream",
     "text": [
      "Response 0:\n",
      "```\n",
      "When I was 6 my sister was half my age, so she was 3. Now I am 70, so she is 70 - 3 = 67. The answer is 67.\n",
      "```\n",
      "\n",
      "Response 1:\n",
      "```\n",
      "When the narrator was 6, his sister was half his age, which is 3. Now that the narrator is 70, his sister would be 70 - 3 = 67 years old. The answer is 67.\n",
      "```\n",
      "\n",
      "Response 2:\n",
      "```\n",
      "When I was 6 my sister was half my age, so she was 3. Now I am 70, so she is 70/2 = 35. The answer is 35.\n",
      "```\n",
      "\n",
      "Write an answer using the most commonly appearing response.\n",
      "    \n"
     ]
    }
   ],
   "source": [
    "print(response_prompt(example_responses))"
   ]
  },
  {
   "cell_type": "code",
   "execution_count": 72,
   "metadata": {},
   "outputs": [],
   "source": [
    "def ask(question: str, n=3, debug=False) -> str:\n",
    "    response = client.chat.completions.create(\n",
    "        model=MODEL,\n",
    "        messages=[\n",
    "            {\n",
    "                \"role\": \"system\",\n",
    "                \"content\": system_message,\n",
    "            },\n",
    "            {\n",
    "                \"role\": \"user\",\n",
    "                \"content\": user_prompt(question),\n",
    "            },\n",
    "        ],\n",
    "        n=3,\n",
    "    )\n",
    "\n",
    "    responses = [choice.message.content for choice in response.choices]\n",
    "\n",
    "    if debug:\n",
    "        for i, choice in enumerate(responses):\n",
    "            print(f\"Response {i+1}:\")\n",
    "            print(choice)\n",
    "\n",
    "    response = client.chat.completions.create(\n",
    "        model=RESPONSE_MODEL,\n",
    "        messages=[\n",
    "            {\n",
    "                \"role\": \"user\",\n",
    "                \"content\": response_prompt(responses),\n",
    "            },\n",
    "        ],\n",
    "    )\n",
    "\n",
    "    answer = response.choices[0].message.content\n",
    "    if debug:\n",
    "        print(\"Answer:\")\n",
    "        print(answer)\n",
    "\n",
    "    return answer"
   ]
  },
  {
   "cell_type": "code",
   "execution_count": 73,
   "metadata": {},
   "outputs": [
    {
     "name": "stdout",
     "output_type": "stream",
     "text": [
      "Response 1:\n",
      "When you were 6 years old, your sister was half your age, which means she was \\( \\frac{6}{2} = 3 \\) years old. The difference in age between you and your sister is 6 - 3 = 3 years. \n",
      "\n",
      "Now that you are 70 years old, your sister is 70 - 3 = 67 years old. \n",
      "\n",
      "The answer is 67.\n",
      "Response 2:\n",
      "When you were 6, your sister was half your age, which means she was \\( \\frac{1}{2} \\times 6 = 3 \\) years old. The age difference between you and your sister is \\( 6 - 3 = 3 \\) years.\n",
      "\n",
      "Since this age difference does not change, now that you are 70, your sister is \\( 70 - 3 = 67 \\) years old. The answer is 67.\n",
      "Response 3:\n",
      "When you were 6, your sister was half your age, meaning she was \\( \\frac{6}{2} = 3 \\) years old. The difference in age between you and your sister is \\( 6 - 3 = 3 \\) years.\n",
      "\n",
      "Now that you are 70 years old, your sister is still 3 years younger than you. Therefore, she is \\( 70 - 3 = 67 \\) years old. The answer is 67.\n",
      "Answer:\n",
      "When you were 6 years old, your sister was half your age, which means she was \\( \\frac{6}{2} = 3 \\) years old. The difference in age between you and your sister is \\( 6 - 3 = 3 \\) years.\n",
      "\n",
      "Now that you are 70 years old, your sister is \\( 70 - 3 = 67 \\) years old. The answer is 67.\n"
     ]
    }
   ],
   "source": [
    "answer = ask(example_question, 3, True)"
   ]
  }
 ],
 "metadata": {
  "kernelspec": {
   "display_name": "Python 3",
   "language": "python",
   "name": "python3"
  },
  "language_info": {
   "codemirror_mode": {
    "name": "ipython",
    "version": 3
   },
   "file_extension": ".py",
   "mimetype": "text/x-python",
   "name": "python",
   "nbconvert_exporter": "python",
   "pygments_lexer": "ipython3",
   "version": "3.11.9"
  }
 },
 "nbformat": 4,
 "nbformat_minor": 2
}
